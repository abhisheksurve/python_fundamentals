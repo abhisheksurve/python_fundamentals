{
 "cells": [
  {
   "cell_type": "code",
   "execution_count": 1,
   "metadata": {},
   "outputs": [],
   "source": [
    "fruits = ['apple','mango','banana','orange','pineapple']"
   ]
  },
  {
   "cell_type": "code",
   "execution_count": 2,
   "metadata": {},
   "outputs": [
    {
     "data": {
      "text/plain": [
       "list"
      ]
     },
     "execution_count": 2,
     "metadata": {},
     "output_type": "execute_result"
    }
   ],
   "source": [
    "type(fruits)"
   ]
  },
  {
   "cell_type": "code",
   "execution_count": 3,
   "metadata": {},
   "outputs": [
    {
     "name": "stdout",
     "output_type": "stream",
     "text": [
      "['apple', 'mango', 'banana', 'orange', 'pineapple']\n"
     ]
    }
   ],
   "source": [
    "print(fruits)"
   ]
  },
  {
   "cell_type": "code",
   "execution_count": 7,
   "metadata": {},
   "outputs": [
    {
     "name": "stdout",
     "output_type": "stream",
     "text": [
      "I like to eat, apple\n"
     ]
    }
   ],
   "source": [
    "print(f\"I like to eat, {fruits[0]}\")"
   ]
  },
  {
   "cell_type": "code",
   "execution_count": 9,
   "metadata": {},
   "outputs": [
    {
     "name": "stdout",
     "output_type": "stream",
     "text": [
      "I like to eat mango\n"
     ]
    }
   ],
   "source": [
    "print(f\"I like to eat {fruits[1]}\")"
   ]
  },
  {
   "cell_type": "code",
   "execution_count": 10,
   "metadata": {},
   "outputs": [
    {
     "name": "stdout",
     "output_type": "stream",
     "text": [
      "I like to eat Apple\n",
      "I like to eat Mango\n",
      "I like to eat Banana\n",
      "I like to eat Orange\n",
      "I like to eat Pineapple\n"
     ]
    }
   ],
   "source": [
    "for fruit in fruits:\n",
    "    print(f\"I like to eat {fruit.title()}\")"
   ]
  },
  {
   "cell_type": "code",
   "execution_count": 11,
   "metadata": {},
   "outputs": [
    {
     "name": "stdout",
     "output_type": "stream",
     "text": [
      "apple\n",
      "mango\n",
      "banana\n",
      "orange\n",
      "pineapple\n"
     ]
    }
   ],
   "source": [
    "for fruit in fruits:\n",
    "    print(fruit)"
   ]
  },
  {
   "cell_type": "code",
   "execution_count": 12,
   "metadata": {},
   "outputs": [
    {
     "name": "stdout",
     "output_type": "stream",
     "text": [
      "I like to eat Apple\n",
      "But I haven't sufficient money to buy Apple\n",
      "I like to eat Mango\n",
      "But I haven't sufficient money to buy Mango\n",
      "I like to eat Banana\n",
      "But I haven't sufficient money to buy Banana\n",
      "I like to eat Orange\n",
      "But I haven't sufficient money to buy Orange\n",
      "I like to eat Pineapple\n",
      "But I haven't sufficient money to buy Pineapple\n"
     ]
    }
   ],
   "source": [
    "for fruit in fruits:\n",
    "    print(f\"I like to eat {fruit.title()}\")\n",
    "    print(f\"But I haven't sufficient money to buy {fruit.title()}\")"
   ]
  },
  {
   "cell_type": "code",
   "execution_count": 13,
   "metadata": {},
   "outputs": [
    {
     "name": "stdout",
     "output_type": "stream",
     "text": [
      "I like to eat Apple\n",
      "But I haven't sufficient money to buy Apple\n",
      "\n",
      "I like to eat Mango\n",
      "But I haven't sufficient money to buy Mango\n",
      "\n",
      "I like to eat Banana\n",
      "But I haven't sufficient money to buy Banana\n",
      "\n",
      "I like to eat Orange\n",
      "But I haven't sufficient money to buy Orange\n",
      "\n",
      "I like to eat Pineapple\n",
      "But I haven't sufficient money to buy Pineapple\n",
      "\n"
     ]
    }
   ],
   "source": [
    "for fruit in fruits:\n",
    "    print(f\"I like to eat {fruit.title()}\")\n",
    "    print(f\"But I haven't sufficient money to buy {fruit.title()}\\n\")"
   ]
  },
  {
   "cell_type": "code",
   "execution_count": 14,
   "metadata": {},
   "outputs": [
    {
     "name": "stdout",
     "output_type": "stream",
     "text": [
      "I like to eat Apple\n",
      "But I haven't sufficient money to buy Apple\n",
      "\n",
      "I like to eat Mango\n",
      "But I haven't sufficient money to buy Mango\n",
      "\n",
      "I like to eat Banana\n",
      "But I haven't sufficient money to buy Banana\n",
      "\n",
      "I like to eat Orange\n",
      "But I haven't sufficient money to buy Orange\n",
      "\n",
      "I like to eat Pineapple\n",
      "But I haven't sufficient money to buy Pineapple\n",
      "\n",
      "Apple is my favourite fruit\n"
     ]
    }
   ],
   "source": [
    "for fruit in fruits:\n",
    "    print(f\"I like to eat {fruit.title()}\")\n",
    "    print(f\"But I haven't sufficient money to buy {fruit.title()}\\n\")\n",
    "    \n",
    "print(\"Apple is my favourite fruit\")"
   ]
  },
  {
   "cell_type": "code",
   "execution_count": 15,
   "metadata": {},
   "outputs": [
    {
     "data": {
      "text/plain": [
       "5"
      ]
     },
     "execution_count": 15,
     "metadata": {},
     "output_type": "execute_result"
    }
   ],
   "source": [
    "len(fruits)"
   ]
  },
  {
   "cell_type": "code",
   "execution_count": null,
   "metadata": {},
   "outputs": [],
   "source": []
  }
 ],
 "metadata": {
  "kernelspec": {
   "display_name": "Python 3",
   "language": "python",
   "name": "python3"
  },
  "language_info": {
   "codemirror_mode": {
    "name": "ipython",
    "version": 3
   },
   "file_extension": ".py",
   "mimetype": "text/x-python",
   "name": "python",
   "nbconvert_exporter": "python",
   "pygments_lexer": "ipython3",
   "version": "3.8.5"
  }
 },
 "nbformat": 4,
 "nbformat_minor": 4
}
